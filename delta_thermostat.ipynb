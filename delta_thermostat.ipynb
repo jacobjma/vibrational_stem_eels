{
 "cells": [
  {
   "cell_type": "code",
   "execution_count": 1,
   "metadata": {},
   "outputs": [],
   "source": [
    "from ase import Atoms\n",
    "from ase.calculators.lammpslib import LAMMPSlib\n",
    "from ase.lattice.hexagonal import Graphene\n",
    "from ase import units\n",
    "from ase.md.velocitydistribution import MaxwellBoltzmannDistribution, Stationary, ZeroRotation\n",
    "from ase.md.langevin import Langevin\n",
    "from ase.md.verlet import VelocityVerlet\n",
    "from ase.md.md import MolecularDynamics\n",
    "from ase.io.trajectory import Trajectory\n",
    "\n",
    "import numpy as np\n",
    "import matplotlib.pyplot as plt\n",
    "\n",
    "from autocorrelation import pdos_spectrum\n",
    "from thermostat import DeltaThermostat\n",
    "from tqdm.auto import tqdm"
   ]
  },
  {
   "cell_type": "code",
   "execution_count": 2,
   "metadata": {},
   "outputs": [],
   "source": [
    "cmds = ['pair_style airebo 3.0',\n",
    "        'pair_coeff * * CH.airebo C']\n",
    "\n",
    "calc = LAMMPSlib(lmpcmds=cmds, log_file=None, keep_alive=True)"
   ]
  },
  {
   "cell_type": "code",
   "execution_count": 3,
   "metadata": {},
   "outputs": [
    {
     "data": {
      "text/plain": [
       "Cell([34.44, 34.086759892955506, 12.0])"
      ]
     },
     "execution_count": 3,
     "metadata": {},
     "output_type": "execute_result"
    }
   ],
   "source": [
    "atoms = Atoms(Graphene(symbol='C', latticeconstant={'a':2.46, 'c': 12}))\n",
    "\n",
    "atoms *= (1,2,1)\n",
    "atoms.cell[1,0]=0\n",
    "\n",
    "atoms *= (14,8,1)\n",
    "atoms.wrap()\n",
    "\n",
    "atoms.cell"
   ]
  },
  {
   "cell_type": "code",
   "execution_count": 4,
   "metadata": {},
   "outputs": [],
   "source": [
    "atoms.calc = calc\n",
    "\n",
    "def printenergy(a=atoms):\n",
    "    \"\"\"Function to print the potential, kinetic and total energy.\"\"\"\n",
    "    epot = a.get_potential_energy() / len(a)\n",
    "    ekin = a.get_kinetic_energy() / len(a)\n",
    "    print(f'Energy per atom: Epot = {epot:.3f} eV  Ekin = {ekin:.3f} eV (T = {ekin / (1.5 * units.kB):.3f} K) '\n",
    "          f'Etot = {epot + ekin:.3f}eV')"
   ]
  },
  {
   "cell_type": "code",
   "execution_count": 5,
   "metadata": {
    "scrolled": true
   },
   "outputs": [
    {
     "name": "stdout",
     "output_type": "stream",
     "text": [
      "Energy per atom: Epot = -7.408 eV  Ekin = 0.000 eV (T = 0.000 K) Etot = -7.408eV\n",
      "Energy per atom: Epot = -7.408 eV  Ekin = 0.000 eV (T = 0.010 K) Etot = -7.408eV\n",
      "Energy per atom: Epot = -7.408 eV  Ekin = 0.000 eV (T = 0.063 K) Etot = -7.408eV\n",
      "Energy per atom: Epot = -7.408 eV  Ekin = 0.000 eV (T = 0.178 K) Etot = -7.408eV\n",
      "Energy per atom: Epot = -7.408 eV  Ekin = 0.000 eV (T = 0.343 K) Etot = -7.408eV\n",
      "Energy per atom: Epot = -7.408 eV  Ekin = 0.000 eV (T = 0.580 K) Etot = -7.408eV\n",
      "Energy per atom: Epot = -7.408 eV  Ekin = 0.000 eV (T = 1.040 K) Etot = -7.408eV\n",
      "Energy per atom: Epot = -7.408 eV  Ekin = 0.000 eV (T = 1.617 K) Etot = -7.408eV\n",
      "Energy per atom: Epot = -7.408 eV  Ekin = 0.000 eV (T = 2.180 K) Etot = -7.408eV\n",
      "Energy per atom: Epot = -7.408 eV  Ekin = 0.000 eV (T = 2.725 K) Etot = -7.407eV\n",
      "Energy per atom: Epot = -7.408 eV  Ekin = 0.000 eV (T = 3.449 K) Etot = -7.407eV\n",
      "Energy per atom: Epot = -7.408 eV  Ekin = 0.001 eV (T = 4.646 K) Etot = -7.407eV\n",
      "Energy per atom: Epot = -7.407 eV  Ekin = 0.001 eV (T = 5.970 K) Etot = -7.407eV\n",
      "Energy per atom: Epot = -7.407 eV  Ekin = 0.001 eV (T = 6.822 K) Etot = -7.406eV\n",
      "Energy per atom: Epot = -7.407 eV  Ekin = 0.001 eV (T = 7.466 K) Etot = -7.406eV\n",
      "Energy per atom: Epot = -7.407 eV  Ekin = 0.001 eV (T = 8.341 K) Etot = -7.406eV\n",
      "Energy per atom: Epot = -7.407 eV  Ekin = 0.001 eV (T = 9.340 K) Etot = -7.406eV\n",
      "Energy per atom: Epot = -7.407 eV  Ekin = 0.001 eV (T = 10.631 K) Etot = -7.405eV\n",
      "Energy per atom: Epot = -7.407 eV  Ekin = 0.002 eV (T = 12.714 K) Etot = -7.405eV\n",
      "Energy per atom: Epot = -7.407 eV  Ekin = 0.002 eV (T = 14.521 K) Etot = -7.405eV\n",
      "Energy per atom: Epot = -7.406 eV  Ekin = 0.002 eV (T = 14.322 K) Etot = -7.404eV\n",
      "Energy per atom: Epot = -7.406 eV  Ekin = 0.002 eV (T = 13.476 K) Etot = -7.404eV\n",
      "Energy per atom: Epot = -7.406 eV  Ekin = 0.002 eV (T = 14.805 K) Etot = -7.404eV\n",
      "Energy per atom: Epot = -7.406 eV  Ekin = 0.002 eV (T = 18.453 K) Etot = -7.404eV\n",
      "Energy per atom: Epot = -7.406 eV  Ekin = 0.003 eV (T = 21.091 K) Etot = -7.403eV\n",
      "Energy per atom: Epot = -7.406 eV  Ekin = 0.003 eV (T = 20.772 K) Etot = -7.403eV\n",
      "Energy per atom: Epot = -7.405 eV  Ekin = 0.002 eV (T = 19.056 K) Etot = -7.403eV\n",
      "Energy per atom: Epot = -7.405 eV  Ekin = 0.003 eV (T = 19.385 K) Etot = -7.403eV\n",
      "Energy per atom: Epot = -7.405 eV  Ekin = 0.003 eV (T = 22.019 K) Etot = -7.402eV\n",
      "Energy per atom: Epot = -7.405 eV  Ekin = 0.003 eV (T = 24.223 K) Etot = -7.402eV\n",
      "Energy per atom: Epot = -7.405 eV  Ekin = 0.003 eV (T = 24.557 K) Etot = -7.402eV\n",
      "Energy per atom: Epot = -7.405 eV  Ekin = 0.003 eV (T = 24.593 K) Etot = -7.402eV\n",
      "Energy per atom: Epot = -7.405 eV  Ekin = 0.003 eV (T = 25.376 K) Etot = -7.402eV\n",
      "Energy per atom: Epot = -7.405 eV  Ekin = 0.003 eV (T = 26.392 K) Etot = -7.401eV\n",
      "Energy per atom: Epot = -7.405 eV  Ekin = 0.003 eV (T = 26.744 K) Etot = -7.401eV\n",
      "Energy per atom: Epot = -7.404 eV  Ekin = 0.003 eV (T = 26.738 K) Etot = -7.401eV\n",
      "Energy per atom: Epot = -7.404 eV  Ekin = 0.004 eV (T = 27.387 K) Etot = -7.401eV\n",
      "Energy per atom: Epot = -7.404 eV  Ekin = 0.004 eV (T = 28.771 K) Etot = -7.401eV\n",
      "Energy per atom: Epot = -7.405 eV  Ekin = 0.004 eV (T = 29.763 K) Etot = -7.401eV\n",
      "Energy per atom: Epot = -7.404 eV  Ekin = 0.004 eV (T = 29.793 K) Etot = -7.401eV\n",
      "Energy per atom: Epot = -7.404 eV  Ekin = 0.004 eV (T = 29.032 K) Etot = -7.401eV\n",
      "Energy per atom: Epot = -7.404 eV  Ekin = 0.004 eV (T = 28.521 K) Etot = -7.401eV\n",
      "Energy per atom: Epot = -7.404 eV  Ekin = 0.004 eV (T = 28.356 K) Etot = -7.401eV\n",
      "Energy per atom: Epot = -7.404 eV  Ekin = 0.004 eV (T = 28.916 K) Etot = -7.400eV\n",
      "Energy per atom: Epot = -7.404 eV  Ekin = 0.004 eV (T = 30.705 K) Etot = -7.400eV\n",
      "Energy per atom: Epot = -7.405 eV  Ekin = 0.004 eV (T = 31.153 K) Etot = -7.400eV\n",
      "Energy per atom: Epot = -7.404 eV  Ekin = 0.004 eV (T = 29.619 K) Etot = -7.400eV\n",
      "Energy per atom: Epot = -7.404 eV  Ekin = 0.004 eV (T = 28.277 K) Etot = -7.400eV\n",
      "Energy per atom: Epot = -7.404 eV  Ekin = 0.004 eV (T = 28.414 K) Etot = -7.400eV\n",
      "Energy per atom: Epot = -7.404 eV  Ekin = 0.004 eV (T = 30.347 K) Etot = -7.400eV\n",
      "Energy per atom: Epot = -7.404 eV  Ekin = 0.004 eV (T = 31.287 K) Etot = -7.400eV\n",
      "Energy per atom: Epot = -7.404 eV  Ekin = 0.004 eV (T = 29.863 K) Etot = -7.400eV\n",
      "Energy per atom: Epot = -7.404 eV  Ekin = 0.004 eV (T = 28.164 K) Etot = -7.400eV\n",
      "Energy per atom: Epot = -7.404 eV  Ekin = 0.004 eV (T = 28.892 K) Etot = -7.400eV\n",
      "Energy per atom: Epot = -7.404 eV  Ekin = 0.004 eV (T = 31.428 K) Etot = -7.400eV\n",
      "Energy per atom: Epot = -7.404 eV  Ekin = 0.004 eV (T = 31.318 K) Etot = -7.400eV\n",
      "Energy per atom: Epot = -7.404 eV  Ekin = 0.004 eV (T = 28.603 K) Etot = -7.400eV\n",
      "Energy per atom: Epot = -7.404 eV  Ekin = 0.004 eV (T = 27.801 K) Etot = -7.400eV\n",
      "Energy per atom: Epot = -7.404 eV  Ekin = 0.004 eV (T = 30.257 K) Etot = -7.400eV\n",
      "Energy per atom: Epot = -7.405 eV  Ekin = 0.004 eV (T = 31.888 K) Etot = -7.400eV\n",
      "Energy per atom: Epot = -7.404 eV  Ekin = 0.004 eV (T = 29.552 K) Etot = -7.400eV\n",
      "Energy per atom: Epot = -7.404 eV  Ekin = 0.004 eV (T = 27.173 K) Etot = -7.400eV\n",
      "Energy per atom: Epot = -7.404 eV  Ekin = 0.004 eV (T = 28.610 K) Etot = -7.400eV\n",
      "Energy per atom: Epot = -7.405 eV  Ekin = 0.004 eV (T = 31.213 K) Etot = -7.400eV\n",
      "Energy per atom: Epot = -7.405 eV  Ekin = 0.004 eV (T = 31.108 K) Etot = -7.400eV\n",
      "Energy per atom: Epot = -7.404 eV  Ekin = 0.004 eV (T = 29.430 K) Etot = -7.400eV\n",
      "Energy per atom: Epot = -7.404 eV  Ekin = 0.004 eV (T = 28.586 K) Etot = -7.401eV\n",
      "Energy per atom: Epot = -7.404 eV  Ekin = 0.004 eV (T = 28.244 K) Etot = -7.401eV\n",
      "Energy per atom: Epot = -7.404 eV  Ekin = 0.004 eV (T = 28.291 K) Etot = -7.401eV\n",
      "Energy per atom: Epot = -7.404 eV  Ekin = 0.004 eV (T = 29.598 K) Etot = -7.401eV\n",
      "Energy per atom: Epot = -7.405 eV  Ekin = 0.004 eV (T = 31.607 K) Etot = -7.401eV\n",
      "Energy per atom: Epot = -7.405 eV  Ekin = 0.004 eV (T = 30.693 K) Etot = -7.401eV\n",
      "Energy per atom: Epot = -7.404 eV  Ekin = 0.004 eV (T = 27.987 K) Etot = -7.401eV\n",
      "Energy per atom: Epot = -7.404 eV  Ekin = 0.003 eV (T = 27.000 K) Etot = -7.401eV\n",
      "Energy per atom: Epot = -7.404 eV  Ekin = 0.004 eV (T = 29.040 K) Etot = -7.400eV\n",
      "Energy per atom: Epot = -7.405 eV  Ekin = 0.004 eV (T = 31.672 K) Etot = -7.400eV\n",
      "Energy per atom: Epot = -7.405 eV  Ekin = 0.004 eV (T = 32.334 K) Etot = -7.400eV\n",
      "Energy per atom: Epot = -7.404 eV  Ekin = 0.004 eV (T = 30.699 K) Etot = -7.400eV\n",
      "Energy per atom: Epot = -7.404 eV  Ekin = 0.004 eV (T = 27.581 K) Etot = -7.400eV\n",
      "Energy per atom: Epot = -7.404 eV  Ekin = 0.004 eV (T = 27.536 K) Etot = -7.400eV\n",
      "Energy per atom: Epot = -7.404 eV  Ekin = 0.004 eV (T = 31.167 K) Etot = -7.400eV\n",
      "Energy per atom: Epot = -7.405 eV  Ekin = 0.004 eV (T = 34.063 K) Etot = -7.400eV\n",
      "Energy per atom: Epot = -7.404 eV  Ekin = 0.004 eV (T = 33.080 K) Etot = -7.400eV\n",
      "Energy per atom: Epot = -7.404 eV  Ekin = 0.004 eV (T = 29.054 K) Etot = -7.400eV\n",
      "Energy per atom: Epot = -7.404 eV  Ekin = 0.004 eV (T = 27.864 K) Etot = -7.400eV\n",
      "Energy per atom: Epot = -7.404 eV  Ekin = 0.004 eV (T = 30.099 K) Etot = -7.400eV\n",
      "Energy per atom: Epot = -7.404 eV  Ekin = 0.004 eV (T = 32.155 K) Etot = -7.400eV\n",
      "Energy per atom: Epot = -7.404 eV  Ekin = 0.004 eV (T = 31.538 K) Etot = -7.400eV\n",
      "Energy per atom: Epot = -7.404 eV  Ekin = 0.004 eV (T = 29.706 K) Etot = -7.400eV\n",
      "Energy per atom: Epot = -7.404 eV  Ekin = 0.004 eV (T = 28.579 K) Etot = -7.400eV\n",
      "Energy per atom: Epot = -7.404 eV  Ekin = 0.004 eV (T = 28.475 K) Etot = -7.400eV\n",
      "Energy per atom: Epot = -7.404 eV  Ekin = 0.004 eV (T = 29.210 K) Etot = -7.400eV\n",
      "Energy per atom: Epot = -7.404 eV  Ekin = 0.004 eV (T = 30.280 K) Etot = -7.400eV\n",
      "Energy per atom: Epot = -7.404 eV  Ekin = 0.004 eV (T = 30.746 K) Etot = -7.400eV\n",
      "Energy per atom: Epot = -7.404 eV  Ekin = 0.004 eV (T = 30.234 K) Etot = -7.400eV\n",
      "Energy per atom: Epot = -7.404 eV  Ekin = 0.004 eV (T = 29.909 K) Etot = -7.400eV\n",
      "Energy per atom: Epot = -7.404 eV  Ekin = 0.004 eV (T = 29.764 K) Etot = -7.400eV\n",
      "Energy per atom: Epot = -7.404 eV  Ekin = 0.004 eV (T = 29.805 K) Etot = -7.400eV\n",
      "Energy per atom: Epot = -7.404 eV  Ekin = 0.004 eV (T = 31.087 K) Etot = -7.400eV\n",
      "Energy per atom: Epot = -7.404 eV  Ekin = 0.004 eV (T = 32.521 K) Etot = -7.400eV\n",
      "Energy per atom: Epot = -7.404 eV  Ekin = 0.004 eV (T = 32.731 K) Etot = -7.400eV\n"
     ]
    },
    {
     "data": {
      "text/plain": [
       "True"
      ]
     },
     "execution_count": 5,
     "metadata": {},
     "output_type": "execute_result"
    }
   ],
   "source": [
    "peak_frequencies = 48 #np.arange(10,56,1)\n",
    "timestep = .5 * units.fs\n",
    "temperature = 300 * units.kB\n",
    "loginterval = 1\n",
    "\n",
    "trajectory = f'trajectories/delta_test.traj'\n",
    "\n",
    "dyn = DeltaThermostat(atoms, timestep, temperature, 48, trajectory=trajectory)\n",
    "dyn.attach(printenergy, interval=100)\n",
    "dyn.run(10000)"
   ]
  },
  {
   "cell_type": "code",
   "execution_count": 371,
   "metadata": {},
   "outputs": [
    {
     "data": {
      "text/plain": [
       "Text(0, 0.5, 'PDOS [arb. units]')"
      ]
     },
     "execution_count": 371,
     "metadata": {},
     "output_type": "execute_result"
    },
    {
     "data": {
      "image/png": "[encoded data removed]",
      "text/plain": [
       "<Figure size 432x288 with 1 Axes>"
      ]
     },
     "metadata": {
      "needs_background": "light"
     },
     "output_type": "display_data"
    }
   ],
   "source": [
    "traj = Trajectory('trajectories/test.traj', 'r')[5000:]\n",
    "data = np.array([atoms.get_velocities() for atoms in traj])\n",
    "\n",
    "frequencies, intensities = pdos_spectrum(data, timestep, resolution=1024)\n",
    "plt.plot(frequencies, intensities)\n",
    "plt.xlim([0,75])\n",
    "plt.xlabel('Frequency [THz]')\n",
    "plt.ylabel('PDOS [arb. units]')"
   ]
  }
 ],
 "metadata": {
  "kernelspec": {
   "display_name": "abTEM",
   "language": "python",
   "name": "abtem"
  },
  "language_info": {
   "codemirror_mode": {
    "name": "ipython",
    "version": 3
   },
   "file_extension": ".py",
   "mimetype": "text/x-python",
   "name": "python",
   "nbconvert_exporter": "python",
   "pygments_lexer": "ipython3",
   "version": "3.8.5"
  }
 },
 "nbformat": 4,
 "nbformat_minor": 4
}
