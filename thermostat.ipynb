{
 "cells": [
  {
   "cell_type": "code",
   "execution_count": 1,
   "metadata": {},
   "outputs": [],
   "source": [
    "from ase import Atoms\n",
    "from ase.calculators.lammpslib import LAMMPSlib\n",
    "from ase.lattice.hexagonal import Graphene\n",
    "from ase import units\n",
    "\n",
    "from ase.md.velocitydistribution import (MaxwellBoltzmannDistribution, Stationary, ZeroRotation, )\n",
    "\n",
    "from ase.md.langevin import Langevin\n",
    "from ase.md.md import MolecularDynamics\n",
    "from ase.io.trajectory import Trajectory\n",
    "\n",
    "from abtem import show_atoms\n",
    "import numpy as np\n",
    "import scipy.linalg as linalg\n",
    "\n",
    "import matplotlib.pyplot as plt\n",
    "from utils import load_gle_matrices\n",
    "from ase.build import molecule\n",
    "from ase.optimize import FIRE\n",
    "\n",
    "from autocorrelation import autocorrelation"
   ]
  },
  {
   "cell_type": "code",
   "execution_count": 56,
   "metadata": {},
   "outputs": [],
   "source": [
    "class VelocityVerlet(MolecularDynamics):\n",
    "    def __init__(self, atoms, timestep=None, trajectory=None, logfile=None,\n",
    "                 loginterval=1, dt=None, append_trajectory=False):\n",
    "\n",
    "        if dt is not None:\n",
    "            warnings.warn(FutureWarning('dt variable is deprecated; please use timestep.'))\n",
    "            timestep = dt\n",
    "        if timestep is None:\n",
    "            raise TypeError('Missing timestep argument')\n",
    "\n",
    "        MolecularDynamics.__init__(self, atoms, timestep, trajectory, logfile, loginterval,\n",
    "                                   append_trajectory=append_trajectory)\n",
    "\n",
    "    def step(self):\n",
    "\n",
    "        atoms = self.atoms\n",
    "        forces = atoms.get_forces()\n",
    "        masses = atoms.get_masses()[:, np.newaxis]\n",
    "        r = atoms.get_positions()\n",
    "        \n",
    "        p = atoms.get_momenta() + 0.5 * self.dt * forces\n",
    "        \n",
    "        atoms.set_positions(r + self.dt * p / masses)\n",
    "                \n",
    "        atoms.set_momenta(p, apply_constraint=False)\n",
    "\n",
    "        forces = atoms.get_forces(md=True)\n",
    "        \n",
    "        atoms.set_momenta(atoms.get_momenta() + 0.5 * self.dt * forces)\n",
    "        \n",
    "        return forces\n",
    "\n",
    "\n",
    "    \n",
    "unit_conversions = {\n",
    "    \"atomic time units^-1\": 1 / units.fs * 1e-15 / units._aut,\n",
    "    \"picoseconds^-1\": 1 / 1000 / units.fs,\n",
    "    \"seconds^-1\": 1 / units.fs * 1e-15,\n",
    "    \"femtoseconds^-1\": units._aut / 1e-15,\n",
    "    \"eV\": 1,\n",
    "    \"atomic energy units\": units.Ha,\n",
    "    \"K\": units.kB,\n",
    "}\n",
    "\n",
    "\n",
    "def read_gle4md_file(filename, start, stop=None):\n",
    "    read = False\n",
    "\n",
    "    matrix = []\n",
    "    with open(filename) as glefile:\n",
    "        for line in glefile:\n",
    "            if read:\n",
    "                if stop:\n",
    "                    if stop in line:\n",
    "                        break\n",
    "                \n",
    "                matrix += [[float(x) for x in line.split()]]\n",
    "\n",
    "            if start in line:\n",
    "                read = True\n",
    "                unit_name = line.strip().split(\"(\")[-1].replace(\")\", \"\")\n",
    "        \n",
    "    return np.array(matrix) * unit_conversions[unit_name]\n",
    "    \n",
    "class GLEThermostat(MolecularDynamics):\n",
    "    \n",
    "    def __init__(self, atoms, timestep, A=None, C=None, gle4md_file=None, trajectory=None, logfile=None,\n",
    "                 loginterval=1, append_trajectory=False):\n",
    "        \n",
    "        if gle4md_file is not None:\n",
    "            if (A is not None) or (C is not None):\n",
    "                raise ValueError()\n",
    "            \n",
    "            A = read_gle4md_file(gle4md_file, start='# A MATRIX:', stop='# C MATRIX:')\n",
    "            C = read_gle4md_file(gle4md_file, start='# C MATRIX:')\n",
    "        \n",
    "        self.T = linalg.expm(-0.5 * timestep * A)\n",
    "        self.S = linalg.sqrtm(C - np.dot(self.T, np.dot(C, self.T.T)))\n",
    "        \n",
    "        self.thermostat_factor = np.sqrt(atoms.get_masses())[..., None, None]\n",
    "        self.thermostat_momenta = np.random.randn(*atoms.get_momenta().shape, self.S.shape[-1])\n",
    "        self.thermostat_momenta = np.dot(self.thermostat_momenta, self.S)  \n",
    "        \n",
    "        MolecularDynamics.__init__(self, atoms, timestep, trajectory, logfile, loginterval,\n",
    "                                   append_trajectory=append_trajectory)\n",
    "    \n",
    "    @classmethod\n",
    "    def from_gle4md_file(cls, atoms, timestep, gle4md_file, trajectory=None, logfile=None, loginterval=1, \n",
    "                         append_trajectory=False):\n",
    "        A = read_gle4md_file(gle4md_file, start='# A MATRIX:', stop='# C MATRIX:')\n",
    "        C = read_gle4md_file(gle4md_file, start='# C MATRIX:')\n",
    "        return cls(atoms, A=A, C=C, timestep=timestep, trajectory=trajectory, logfile=logfile,\n",
    "                             loginterval=loginterval, append_trajectory=append_trajectory)\n",
    "        \n",
    "    def _apply_thermostat(self, p):\n",
    "        self.thermostat_momenta[:, :, 0] = p\n",
    "        \n",
    "        thermostat_noise = np.random.randn(*self.thermostat_momenta.shape)\n",
    "\n",
    "        self.thermostat_momenta = (np.dot(self.thermostat_momenta, self.T) \n",
    "                                    + np.dot(thermostat_noise, self.S) * self.thermostat_factor)\n",
    "        \n",
    "        return self.thermostat_momenta[:, :, 0]\n",
    "        \n",
    "    def step(self):\n",
    "        atoms = self.atoms\n",
    "\n",
    "        p = self._apply_thermostat(atoms.get_momenta())\n",
    "        p = p + 0.5 * self.dt * atoms.get_forces()\n",
    "        \n",
    "        atoms.set_positions(atoms.get_positions() + self.dt * p / atoms.get_masses()[:, None])                \n",
    "        atoms.set_momenta(p)\n",
    "\n",
    "        forces = atoms.get_forces(md=True)\n",
    "        \n",
    "        p = atoms.get_momenta() + 0.5 * self.dt * forces\n",
    "        atoms.set_momenta(self._apply_thermostat(p))\n",
    "        \n",
    "        return forces\n",
    "\n",
    "\n",
    "class DeltaThermostat(GLEThermostat):\n",
    "    \n",
    "    def __init__(self, atoms, timestep, temperature, peak_frequency, trajectory=None, logfile=None,\n",
    "                 loginterval=1, append_trajectory=False):\n",
    "        \n",
    "        gle4md_file = 'delta_thermo_10THz_300K.txt'\n",
    "        A = read_gle4md_file(gle4md_file, start='# A MATRIX:', stop='# C MATRIX:')\n",
    "        C = read_gle4md_file(gle4md_file, start='# C MATRIX:')\n",
    "        A = A / 10 * peak_frequency\n",
    "        C = C / 300 * temperature\n",
    "        \n",
    "        super().__init__(atoms, A=A, C=C, timestep=timestep, trajectory=trajectory, logfile=logfile,\n",
    "                             loginterval=loginterval, append_trajectory=append_trajectory)\n",
    "    \n",
    "        \n",
    "        "
   ]
  },
  {
   "cell_type": "code",
   "execution_count": 45,
   "metadata": {},
   "outputs": [
    {
     "data": {
      "text/plain": [
       "Cell([29.52, 29.825914906336067, 12.0])"
      ]
     },
     "execution_count": 45,
     "metadata": {},
     "output_type": "execute_result"
    }
   ],
   "source": [
    "#atoms = molecule('CH3')\n",
    "#atoms.center(vacuum=10)\n",
    "#atoms.cell\n",
    "\n",
    "atoms = Atoms(Graphene(symbol='C', latticeconstant={'a':2.46, 'c': 12}))\n",
    "\n",
    "atoms *= (1,2,1)\n",
    "atoms.cell[1,0]=0\n",
    "\n",
    "atoms *= (12,7,1)\n",
    "atoms.wrap()\n",
    "\n",
    "atoms.cell"
   ]
  },
  {
   "cell_type": "code",
   "execution_count": 53,
   "metadata": {},
   "outputs": [
    {
     "name": "stdout",
     "output_type": "stream",
     "text": [
      "[[ 1.16441422e-02  1.63660913e-02 -1.52053642e-02  7.83664929e-03\n",
      "  -1.10419087e-01]\n",
      " [-1.61441967e-02  1.41068751e-05  2.96138466e+00 -5.14774004e-01\n",
      "   2.18652728e-01]\n",
      " [ 1.52053112e-02 -2.96138466e+00  6.15240086e-11 -5.83865411e-03\n",
      "   4.30241675e-02]\n",
      " [-2.38729242e-03  5.14774004e-01  5.83865411e-03  3.02629609e-01\n",
      "   4.43919338e-01]\n",
      " [-2.78595056e-01 -2.18652728e-01 -4.30241675e-02 -4.43919338e-01\n",
      "   8.07169350e+00]] [[ 2.70900200e-06 -2.93990626e-04 -2.30894908e-04  4.53571680e-05\n",
      "  -8.27433104e-06]\n",
      " [-2.93990626e-04  5.25003259e-02 -2.24530515e-04 -8.24402914e-04\n",
      "   1.30215836e-03]\n",
      " [-2.30894908e-04 -2.24530515e-04  5.07834078e-02 -8.94229016e-03\n",
      "   1.93900468e-04]\n",
      " [ 4.53571680e-05 -8.24402914e-04 -8.94229016e-03  1.66297821e-03\n",
      "  -5.97825053e-05]\n",
      " [-8.27433104e-06  1.30215836e-03  1.93900468e-04 -5.97825053e-05\n",
      "   3.92933871e-05]]\n"
     ]
    }
   ],
   "source": [
    "dyn = DeltaThermostat(atoms, timestep, 300, 47, trajectory='graphene.traj', loginterval=loginterval)\n"
   ]
  },
  {
   "cell_type": "code",
   "execution_count": 57,
   "metadata": {},
   "outputs": [
    {
     "name": "stdout",
     "output_type": "stream",
     "text": [
      "[[ 1.16441422e-02  1.63660913e-02 -1.52053642e-02  7.83664929e-03\n",
      "  -1.10419087e-01]\n",
      " [-1.61441967e-02  1.41068751e-05  2.96138466e+00 -5.14774004e-01\n",
      "   2.18652728e-01]\n",
      " [ 1.52053112e-02 -2.96138466e+00  6.15240086e-11 -5.83865411e-03\n",
      "   4.30241675e-02]\n",
      " [-2.38729242e-03  5.14774004e-01  5.83865411e-03  3.02629609e-01\n",
      "   4.43919338e-01]\n",
      " [-2.78595056e-01 -2.18652728e-01 -4.30241675e-02 -4.43919338e-01\n",
      "   8.07169350e+00]] [[ 2.70900200e-06 -2.93990626e-04 -2.30894908e-04  4.53571680e-05\n",
      "  -8.27433104e-06]\n",
      " [-2.93990626e-04  5.25003259e-02 -2.24530515e-04 -8.24402914e-04\n",
      "   1.30215836e-03]\n",
      " [-2.30894908e-04 -2.24530515e-04  5.07834078e-02 -8.94229016e-03\n",
      "   1.93900468e-04]\n",
      " [ 4.53571680e-05 -8.24402914e-04 -8.94229016e-03  1.66297821e-03\n",
      "  -5.97825053e-05]\n",
      " [-8.27433104e-06  1.30215836e-03  1.93900468e-04 -5.97825053e-05\n",
      "   3.92933871e-05]]\n"
     ]
    }
   ],
   "source": [
    "dyn = DeltaThermostat(atoms, timestep, 400, 47, trajectory='graphene.traj', loginterval=loginterval)\n"
   ]
  },
  {
   "cell_type": "code",
   "execution_count": 28,
   "metadata": {},
   "outputs": [],
   "source": [
    "cmds = ['pair_style airebo 3.0',\n",
    "        'pair_coeff * * CH.airebo C']\n",
    "\n",
    "lammps = LAMMPSlib(lmpcmds=cmds, log_file=None, keep_alive=True)\n",
    "\n",
    "atoms.set_calculator(lammps)\n",
    "\n",
    "def printenergy(a=atoms):  # store a reference to atoms in the definition.\n",
    "    \"\"\"Function to print the potential, kinetic and total energy.\"\"\"\n",
    "    epot = a.get_potential_energy() / len(a)\n",
    "    ekin = a.get_kinetic_energy() / len(a)\n",
    "    print(f'Energy per atom: Epot = {epot:.3f} eV  Ekin = {ekin:.3f} eV (T = {ekin / (1.5 * units.kB):.3f} K) '\n",
    "          f'Etot = {epot + ekin:.3f}eV')"
   ]
  },
  {
   "cell_type": "code",
   "execution_count": 29,
   "metadata": {
    "scrolled": true
   },
   "outputs": [
    {
     "name": "stdout",
     "output_type": "stream",
     "text": [
      "      Step     Time          Energy         fmax\n",
      "*Force-consistent energies used in optimization.\n",
      "FIRE:    0 12:50:27    -2489.127655*       0.0000\n",
      "Energy per atom: Epot = -7.408 eV  Ekin = 0.000 eV (T = 0.000 K) Etot = -7.408eV\n",
      "Energy per atom: Epot = -7.408 eV  Ekin = 0.000 eV (T = 1.578 K) Etot = -7.408eV\n",
      "Energy per atom: Epot = -7.408 eV  Ekin = 0.001 eV (T = 4.407 K) Etot = -7.407eV\n",
      "Energy per atom: Epot = -7.407 eV  Ekin = 0.001 eV (T = 6.095 K) Etot = -7.407eV\n",
      "Energy per atom: Epot = -7.407 eV  Ekin = 0.001 eV (T = 5.203 K) Etot = -7.407eV\n",
      "Energy per atom: Epot = -7.407 eV  Ekin = 0.001 eV (T = 5.559 K) Etot = -7.407eV\n",
      "Energy per atom: Epot = -7.407 eV  Ekin = 0.001 eV (T = 5.618 K) Etot = -7.407eV\n",
      "Energy per atom: Epot = -7.407 eV  Ekin = 0.001 eV (T = 6.537 K) Etot = -7.407eV\n",
      "Energy per atom: Epot = -7.407 eV  Ekin = 0.001 eV (T = 5.627 K) Etot = -7.406eV\n",
      "Energy per atom: Epot = -7.407 eV  Ekin = 0.001 eV (T = 6.284 K) Etot = -7.406eV\n",
      "Energy per atom: Epot = -7.407 eV  Ekin = 0.001 eV (T = 6.483 K) Etot = -7.406eV\n",
      "Energy per atom: Epot = -7.407 eV  Ekin = 0.001 eV (T = 5.923 K) Etot = -7.406eV\n",
      "Energy per atom: Epot = -7.407 eV  Ekin = 0.001 eV (T = 6.580 K) Etot = -7.406eV\n",
      "Energy per atom: Epot = -7.407 eV  Ekin = 0.001 eV (T = 5.750 K) Etot = -7.407eV\n",
      "Energy per atom: Epot = -7.407 eV  Ekin = 0.001 eV (T = 6.278 K) Etot = -7.407eV\n",
      "Energy per atom: Epot = -7.407 eV  Ekin = 0.001 eV (T = 7.197 K) Etot = -7.406eV\n",
      "Energy per atom: Epot = -7.407 eV  Ekin = 0.001 eV (T = 7.241 K) Etot = -7.406eV\n",
      "Energy per atom: Epot = -7.407 eV  Ekin = 0.001 eV (T = 6.393 K) Etot = -7.406eV\n",
      "Energy per atom: Epot = -7.407 eV  Ekin = 0.001 eV (T = 6.141 K) Etot = -7.406eV\n",
      "Energy per atom: Epot = -7.407 eV  Ekin = 0.001 eV (T = 7.315 K) Etot = -7.406eV\n",
      "Energy per atom: Epot = -7.407 eV  Ekin = 0.001 eV (T = 7.003 K) Etot = -7.406eV\n",
      "Energy per atom: Epot = -7.407 eV  Ekin = 0.001 eV (T = 7.857 K) Etot = -7.406eV\n",
      "Energy per atom: Epot = -7.407 eV  Ekin = 0.001 eV (T = 6.727 K) Etot = -7.406eV\n",
      "Energy per atom: Epot = -7.407 eV  Ekin = 0.001 eV (T = 8.199 K) Etot = -7.406eV\n",
      "Energy per atom: Epot = -7.407 eV  Ekin = 0.001 eV (T = 6.942 K) Etot = -7.406eV\n",
      "Energy per atom: Epot = -7.407 eV  Ekin = 0.001 eV (T = 5.912 K) Etot = -7.406eV\n",
      "Energy per atom: Epot = -7.407 eV  Ekin = 0.001 eV (T = 7.859 K) Etot = -7.406eV\n",
      "Energy per atom: Epot = -7.407 eV  Ekin = 0.001 eV (T = 5.792 K) Etot = -7.406eV\n",
      "Energy per atom: Epot = -7.407 eV  Ekin = 0.001 eV (T = 6.526 K) Etot = -7.406eV\n",
      "Energy per atom: Epot = -7.407 eV  Ekin = 0.001 eV (T = 6.724 K) Etot = -7.407eV\n",
      "Energy per atom: Epot = -7.407 eV  Ekin = 0.001 eV (T = 5.828 K) Etot = -7.406eV\n",
      "Energy per atom: Epot = -7.407 eV  Ekin = 0.001 eV (T = 6.516 K) Etot = -7.406eV\n",
      "Energy per atom: Epot = -7.407 eV  Ekin = 0.001 eV (T = 6.919 K) Etot = -7.406eV\n",
      "Energy per atom: Epot = -7.407 eV  Ekin = 0.001 eV (T = 5.942 K) Etot = -7.407eV\n",
      "Energy per atom: Epot = -7.407 eV  Ekin = 0.001 eV (T = 5.502 K) Etot = -7.407eV\n",
      "Energy per atom: Epot = -7.407 eV  Ekin = 0.001 eV (T = 5.797 K) Etot = -7.407eV\n",
      "Energy per atom: Epot = -7.407 eV  Ekin = 0.001 eV (T = 6.181 K) Etot = -7.407eV\n",
      "Energy per atom: Epot = -7.407 eV  Ekin = 0.001 eV (T = 6.367 K) Etot = -7.406eV\n",
      "Energy per atom: Epot = -7.407 eV  Ekin = 0.001 eV (T = 6.252 K) Etot = -7.406eV\n",
      "Energy per atom: Epot = -7.407 eV  Ekin = 0.001 eV (T = 6.961 K) Etot = -7.406eV\n",
      "Energy per atom: Epot = -7.407 eV  Ekin = 0.001 eV (T = 6.268 K) Etot = -7.406eV\n",
      "Energy per atom: Epot = -7.407 eV  Ekin = 0.001 eV (T = 6.405 K) Etot = -7.406eV\n",
      "Energy per atom: Epot = -7.407 eV  Ekin = 0.001 eV (T = 7.112 K) Etot = -7.406eV\n",
      "Energy per atom: Epot = -7.407 eV  Ekin = 0.001 eV (T = 8.048 K) Etot = -7.406eV\n",
      "Energy per atom: Epot = -7.407 eV  Ekin = 0.001 eV (T = 7.409 K) Etot = -7.406eV\n",
      "Energy per atom: Epot = -7.407 eV  Ekin = 0.001 eV (T = 8.428 K) Etot = -7.406eV\n",
      "Energy per atom: Epot = -7.407 eV  Ekin = 0.001 eV (T = 7.275 K) Etot = -7.406eV\n",
      "Energy per atom: Epot = -7.407 eV  Ekin = 0.001 eV (T = 7.850 K) Etot = -7.406eV\n",
      "Energy per atom: Epot = -7.407 eV  Ekin = 0.001 eV (T = 6.951 K) Etot = -7.406eV\n",
      "Energy per atom: Epot = -7.407 eV  Ekin = 0.001 eV (T = 7.821 K) Etot = -7.406eV\n",
      "Energy per atom: Epot = -7.407 eV  Ekin = 0.001 eV (T = 6.519 K) Etot = -7.406eV\n",
      "Energy per atom: Epot = -7.407 eV  Ekin = 0.001 eV (T = 6.566 K) Etot = -7.406eV\n",
      "Energy per atom: Epot = -7.407 eV  Ekin = 0.001 eV (T = 7.995 K) Etot = -7.406eV\n",
      "Energy per atom: Epot = -7.407 eV  Ekin = 0.001 eV (T = 8.500 K) Etot = -7.406eV\n",
      "Energy per atom: Epot = -7.407 eV  Ekin = 0.001 eV (T = 6.878 K) Etot = -7.406eV\n",
      "Energy per atom: Epot = -7.407 eV  Ekin = 0.001 eV (T = 6.545 K) Etot = -7.406eV\n",
      "Energy per atom: Epot = -7.407 eV  Ekin = 0.001 eV (T = 6.435 K) Etot = -7.406eV\n",
      "Energy per atom: Epot = -7.407 eV  Ekin = 0.001 eV (T = 7.734 K) Etot = -7.406eV\n",
      "Energy per atom: Epot = -7.407 eV  Ekin = 0.001 eV (T = 6.483 K) Etot = -7.406eV\n",
      "Energy per atom: Epot = -7.407 eV  Ekin = 0.001 eV (T = 7.130 K) Etot = -7.406eV\n",
      "Energy per atom: Epot = -7.407 eV  Ekin = 0.001 eV (T = 7.825 K) Etot = -7.406eV\n",
      "Energy per atom: Epot = -7.407 eV  Ekin = 0.001 eV (T = 6.393 K) Etot = -7.406eV\n",
      "Energy per atom: Epot = -7.407 eV  Ekin = 0.001 eV (T = 6.431 K) Etot = -7.406eV\n",
      "Energy per atom: Epot = -7.407 eV  Ekin = 0.001 eV (T = 7.264 K) Etot = -7.406eV\n",
      "Energy per atom: Epot = -7.407 eV  Ekin = 0.001 eV (T = 5.043 K) Etot = -7.407eV\n",
      "Energy per atom: Epot = -7.407 eV  Ekin = 0.001 eV (T = 5.448 K) Etot = -7.406eV\n",
      "Energy per atom: Epot = -7.407 eV  Ekin = 0.001 eV (T = 5.802 K) Etot = -7.407eV\n",
      "Energy per atom: Epot = -7.407 eV  Ekin = 0.001 eV (T = 5.896 K) Etot = -7.407eV\n",
      "Energy per atom: Epot = -7.407 eV  Ekin = 0.001 eV (T = 6.523 K) Etot = -7.407eV\n",
      "Energy per atom: Epot = -7.407 eV  Ekin = 0.001 eV (T = 6.081 K) Etot = -7.406eV\n",
      "Energy per atom: Epot = -7.407 eV  Ekin = 0.001 eV (T = 6.021 K) Etot = -7.406eV\n"
     ]
    },
    {
     "data": {
      "text/plain": [
       "True"
      ]
     },
     "execution_count": 29,
     "metadata": {},
     "output_type": "execute_result"
    }
   ],
   "source": [
    "loginterval = 1\n",
    "timestep = .5 * units.fs\n",
    "\n",
    "MaxwellBoltzmannDistribution(atoms, 0. * units.kB)\n",
    "Stationary(atoms)\n",
    "ZeroRotation(atoms)\n",
    "\n",
    "#dyn = VelocityVerlet(atoms, timestep, trajectory='graphene.traj', loginterval=loginterval)\n",
    "#dyn = Langevin(atoms, timestep, temperature=300 * units.kB, friction=1e-3, \n",
    "#               trajectory='graphene.traj', loginterval=loginterval)\n",
    "\n",
    "#dyn = GLEThermostat(atoms, A, C, timestep=timestep, trajectory='graphene.traj', loginterval=loginterval)\n",
    "\n",
    "opt = FIRE(atoms)\n",
    "opt.run(.05)\n",
    "\n",
    "dyn = DeltaThermostat(atoms, timestep, 300, 47, trajectory='graphene.traj', loginterval=loginterval)\n",
    "\n",
    "#dyn = GLEThermostat.from_gle4md_file(atoms, timestep, 'gle_matrices.txt', \n",
    "#                                     trajectory='graphene.traj', loginterval=loginterval)\n",
    "\n",
    "#dyn = GLEThermostat(atoms, 'gle_matrices.txt', timestep=timestep, trajectory='graphene.traj', loginterval=loginterval)\n",
    "#dyn = VelocityVerlet(atoms, timestep=timestep, trajectory='graphene.traj', loginterval=1)\n",
    "\n",
    "\n",
    "dyn.attach(printenergy, interval=1000)\n",
    "\n",
    "# Now run the dynamics for 10000 timesteps.\n",
    "dyn.run(70000)"
   ]
  },
  {
   "cell_type": "code",
   "execution_count": 30,
   "metadata": {},
   "outputs": [
    {
     "data": {
      "image/png": "[encoded data removed]",
      "text/plain": [
       "<Figure size 432x288 with 1 Axes>"
      ]
     },
     "metadata": {
      "needs_background": "light"
     },
     "output_type": "display_data"
    }
   ],
   "source": [
    "traj = Trajectory('graphene.traj', 'r')\n",
    "\n",
    "time_step = np.linspace(0,(len(traj)-1)*loginterval*timestep,len(traj))\n",
    "energies = [atoms.get_kinetic_energy() / (1.5 * units.kB * len(atoms)) for atoms in traj]\n",
    "\n",
    "plt.plot(energies)\n",
    "plt.xlabel('Time step [fs]')\n",
    "plt.ylabel('Temperature [K]');"
   ]
  },
  {
   "cell_type": "code",
   "execution_count": 31,
   "metadata": {},
   "outputs": [],
   "source": [
    "velocities = np.array([atoms.get_velocities() for atoms in traj])"
   ]
  },
  {
   "cell_type": "code",
   "execution_count": 32,
   "metadata": {},
   "outputs": [
    {
     "data": {
      "text/plain": [
       "[<matplotlib.lines.Line2D at 0x7f2278ede460>,\n",
       " <matplotlib.lines.Line2D at 0x7f2278ede550>,\n",
       " <matplotlib.lines.Line2D at 0x7f2278ede610>]"
      ]
     },
     "execution_count": 32,
     "metadata": {},
     "output_type": "execute_result"
    },
    {
     "data": {
      "image/png": "[encoded data removed]",
      "text/plain": [
       "<Figure size 432x288 with 1 Axes>"
      ]
     },
     "metadata": {
      "needs_background": "light"
     },
     "output_type": "display_data"
    }
   ],
   "source": [
    "plt.plot(velocities[:,0])"
   ]
  },
  {
   "cell_type": "code",
   "execution_count": 39,
   "metadata": {},
   "outputs": [],
   "source": [
    "a = [autocorrelation(velocities[20000:,i]) for i in range(4)]\n",
    "a = np.array(a)\n",
    "\n",
    "\n",
    "a = np.abs(np.fft.fft(a, axis=1))\n",
    "a = np.mean(a,axis=0)"
   ]
  },
  {
   "cell_type": "code",
   "execution_count": 40,
   "metadata": {},
   "outputs": [],
   "source": [
    "f = np.fft.fftfreq(len(a), d=.5/1000)"
   ]
  },
  {
   "cell_type": "code",
   "execution_count": 41,
   "metadata": {},
   "outputs": [
    {
     "data": {
      "text/plain": [
       "(0.0, 100.0)"
      ]
     },
     "execution_count": 41,
     "metadata": {},
     "output_type": "execute_result"
    },
    {
     "data": {
      "image/png": "[encoded data removed]",
      "text/plain": [
       "<Figure size 864x360 with 1 Axes>"
      ]
     },
     "metadata": {
      "needs_background": "light"
     },
     "output_type": "display_data"
    }
   ],
   "source": [
    "plt.figure(figsize=(12,5))\n",
    "plt.plot(f, a)\n",
    "plt.xlim([0,100])"
   ]
  }
 ],
 "metadata": {
  "kernelspec": {
   "display_name": "abTEM",
   "language": "python",
   "name": "abtem"
  },
  "language_info": {
   "codemirror_mode": {
    "name": "ipython",
    "version": 3
   },
   "file_extension": ".py",
   "mimetype": "text/x-python",
   "name": "python",
   "nbconvert_exporter": "python",
   "pygments_lexer": "ipython3",
   "version": "3.8.5"
  }
 },
 "nbformat": 4,
 "nbformat_minor": 4
}
