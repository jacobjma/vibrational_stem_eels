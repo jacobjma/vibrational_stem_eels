{
 "cells": [
  {
   "cell_type": "code",
   "execution_count": 62,
   "metadata": {},
   "outputs": [],
   "source": [
    "from __future__ import division\n",
    "import numpy as np\n",
    "\n",
    "def closest_power_of_2(n):\n",
    "    return 2 ** int(np.ceil(np.log(n) / np.log(2)))\n",
    "\n",
    "def autocorrelation_1d(data):\n",
    "    n = len(data)\n",
    "    X = np.zeros(2 * closest_power_of_2(n))\n",
    "    X[:N] = data\n",
    "    F = np.fft.fft(X)\n",
    "    result = np.fft.ifft(F * F.conj())[:N].real / (N - np.arange(N))\n",
    "    return result[:N]\n",
    "\n",
    "def autocorrelation(X):\n",
    "    X = np.asarray(X)\n",
    "    if X.ndim==1:\n",
    "        return autocorrelation_1d(X)\n",
    "    \n",
    "    else:\n",
    "        result = autocorrelation_1d(X[:,0])\n",
    "        for j in range(1, data.shape[1]):\n",
    "            result += autocorrelation_1d(X[:,j])\n",
    "        return result"
   ]
  },
  {
   "cell_type": "code",
   "execution_count": 73,
   "metadata": {},
   "outputs": [],
   "source": [
    "import numpy as np\n",
    "import matplotlib.pyplot as plt\n",
    "\n",
    "gamma = 2.7\n",
    "T = 0.1\n",
    "dt = 0.02\n",
    "v_factor = np.sqrt(2*T*gamma*dt)\n",
    "N = 32768\n",
    "\n",
    "acfs = []\n",
    "for j in range(300):\n",
    "\n",
    "    v = 0\n",
    "    for i in range(500):\n",
    "        noise_force = v_factor*np.random.normal()\n",
    "        v = v - gamma*v*dt + noise_force\n",
    "\n",
    "    v_data = []\n",
    "    noise_data = []\n",
    "\n",
    "    for i in range(N):\n",
    "        noise_force = v_factor*np.random.normal()\n",
    "        v = v - gamma*v*dt + noise_force\n",
    "        v_data.append(v)\n",
    "        noise_data.append(noise_force)\n",
    "    v_data = np.array(v_data)\n",
    "    noise_data = np.array(noise_data)/np.sqrt(dt)\n",
    "\n",
    "# Compute the autocorrelation function and plot the result\n",
    "\n",
    "    acf = autocorrelation(v_data)[:N//64]\n",
    "    \n",
    "    acfs.append(acf)"
   ]
  },
  {
   "cell_type": "code",
   "execution_count": 74,
   "metadata": {},
   "outputs": [
    {
     "data": {
      "text/plain": [
       "[<matplotlib.lines.Line2D at 0x7f7394662760>]"
      ]
     },
     "execution_count": 74,
     "metadata": {},
     "output_type": "execute_result"
    },
    {
     "data": {
      "image/png": "[encoded data removed]",
      "text/plain": [
       "<Figure size 460.8x345.6 with 1 Axes>"
      ]
     },
     "metadata": {
      "needs_background": "light"
     },
     "output_type": "display_data"
    }
   ],
   "source": [
    "acf = np.mean(acfs,axis=0)\n",
    "\n",
    "time = np.arange(N//64)*dt\n",
    "\n",
    "plt.plot(time, acf, label='VACF (num.)')\n",
    "\n",
    "plt.plot(time, T*np.exp(-gamma*time), label='VACF (theo.)')"
   ]
  }
 ],
 "metadata": {
  "kernelspec": {
   "display_name": "abTEM",
   "language": "python",
   "name": "abtem"
  },
  "language_info": {
   "codemirror_mode": {
    "name": "ipython",
    "version": 3
   },
   "file_extension": ".py",
   "mimetype": "text/x-python",
   "name": "python",
   "nbconvert_exporter": "python",
   "pygments_lexer": "ipython3",
   "version": "3.8.5"
  }
 },
 "nbformat": 4,
 "nbformat_minor": 4
}
